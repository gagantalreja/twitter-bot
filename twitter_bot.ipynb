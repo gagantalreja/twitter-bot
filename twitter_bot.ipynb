{
 "cells": [
  {
   "cell_type": "markdown",
   "metadata": {},
   "source": [
    "# Twitter Bot Classification"
   ]
  },
  {
   "cell_type": "markdown",
   "metadata": {},
   "source": [
    "## User Based Classification"
   ]
  },
  {
   "cell_type": "markdown",
   "metadata": {},
   "source": [
    "Classification techniques based on features like favorite count, reply count, retweet count, age of the twitter account etc."
   ]
  },
  {
   "cell_type": "code",
   "execution_count": 1,
   "metadata": {},
   "outputs": [],
   "source": [
    "import pandas as pd\n",
    "df_train = pd.read_csv('training.csv')\n",
    "df_train.rename(columns = {'favourites_count': 'favorites_count'}, inplace = True)"
   ]
  },
  {
   "cell_type": "markdown",
   "metadata": {},
   "source": [
    "### Data pre-processing and splitting data into training and testing sets"
   ]
  },
  {
   "cell_type": "code",
   "execution_count": 2,
   "metadata": {},
   "outputs": [],
   "source": [
    "import numpy as np\n",
    "\n",
    "def get_data(frame):\n",
    "    new_frame = pd.DataFrame()\n",
    "    l = ['followers_count', 'friends_count', 'listed_count', 'favorites_count', 'statuses_count', 'bot']\n",
    "    l1 = ['followers', 'friends', 'listed', 'favorite', 'statuses', 'bot']\n",
    "    for i, j in zip(l, l1):\n",
    "        new_frame[j] = pd.Series(frame[i].astype(float))\n",
    "        new_frame.fillna(np.mean(new_frame[j]), inplace = True)\n",
    "    return new_frame\n",
    "df = get_data(df_train)\n",
    "df.bot = df.bot.astype(int)\n",
    "x, y = df.iloc[:, 0:-1].values, df.bot.values"
   ]
  },
  {
   "cell_type": "code",
   "execution_count": 3,
   "metadata": {},
   "outputs": [],
   "source": [
    "from sklearn.model_selection import train_test_split as tts\n",
    "x_train, x_test, y_train, y_test = tts(x, y, test_size=0.2, random_state=42)"
   ]
  },
  {
   "cell_type": "markdown",
   "metadata": {},
   "source": [
    "### Decision Tree Classifier(CART)"
   ]
  },
  {
   "cell_type": "code",
   "execution_count": 4,
   "metadata": {},
   "outputs": [],
   "source": [
    "from sklearn import tree\n",
    "clf = tree.DecisionTreeClassifier()\n",
    "clf = clf.fit(x_train, y_train)"
   ]
  },
  {
   "cell_type": "code",
   "execution_count": 5,
   "metadata": {},
   "outputs": [
    {
     "name": "stdout",
     "output_type": "stream",
     "text": [
      "Precision =  0.832089552238806\n",
      "Recall =  0.825925925925926\n",
      "Accuracy =  0.8357142857142857\n"
     ]
    },
    {
     "data": {
      "text/plain": [
       "array([[245,  45],\n",
       "       [ 47, 223]], dtype=int64)"
      ]
     },
     "execution_count": 5,
     "metadata": {},
     "output_type": "execute_result"
    }
   ],
   "source": [
    "from sklearn.metrics import accuracy_score as acc, precision_score as prec\n",
    "from sklearn.metrics import confusion_matrix, recall_score as rec\n",
    "\n",
    "def metrics_calc(y_test, y_pred):\n",
    "    con_mat = confusion_matrix(y_test, y_pred)\n",
    "    print('Precision = ', prec(y_test, y_pred))\n",
    "    print('Recall = ', rec(y_test, y_pred))\n",
    "    print('Accuracy = ', acc(y_test, y_pred))\n",
    "    return con_mat\n",
    "\n",
    "y_pred = clf.predict(x_test)\n",
    "con_mat = metrics_calc(y_test, y_pred)\n",
    "con_mat"
   ]
  },
  {
   "cell_type": "code",
   "execution_count": 6,
   "metadata": {},
   "outputs": [
    {
     "data": {
      "image/png": "[encoded data removed]",
      "text/plain": [
       "<Figure size 432x288 with 2 Axes>"
      ]
     },
     "metadata": {},
     "output_type": "display_data"
    }
   ],
   "source": [
    "import seaborn as sns\n",
    "import matplotlib.pyplot as plt\n",
    "%matplotlib inline\n",
    "\n",
    "def plot(con):\n",
    "    df_cm = pd.DataFrame(con, range(2), range(2))\n",
    "    sns.set(font_scale=1.4)\n",
    "    sns.heatmap(df_cm, annot=True, annot_kws={\"size\": 16})\n",
    "plot(con_mat)"
   ]
  },
  {
   "cell_type": "markdown",
   "metadata": {},
   "source": [
    "### Random Forest Classifier"
   ]
  },
  {
   "cell_type": "code",
   "execution_count": 7,
   "metadata": {},
   "outputs": [],
   "source": [
    "from sklearn.ensemble import RandomForestClassifier\n",
    "clf = RandomForestClassifier(n_estimators = 10, max_depth = 2, random_state=0,\n",
    "                                bootstrap = True, criterion = 'entropy')"
   ]
  },
  {
   "cell_type": "code",
   "execution_count": 8,
   "metadata": {},
   "outputs": [
    {
     "data": {
      "text/plain": [
       "RandomForestClassifier(bootstrap=True, class_weight=None, criterion='entropy',\n",
       "                       max_depth=2, max_features='auto', max_leaf_nodes=None,\n",
       "                       min_impurity_decrease=0.0, min_impurity_split=None,\n",
       "                       min_samples_leaf=1, min_samples_split=2,\n",
       "                       min_weight_fraction_leaf=0.0, n_estimators=10,\n",
       "                       n_jobs=None, oob_score=False, random_state=0, verbose=0,\n",
       "                       warm_start=False)"
      ]
     },
     "execution_count": 8,
     "metadata": {},
     "output_type": "execute_result"
    }
   ],
   "source": [
    "clf.fit(x_train, y_train)"
   ]
  },
  {
   "cell_type": "code",
   "execution_count": 9,
   "metadata": {},
   "outputs": [
    {
     "name": "stdout",
     "output_type": "stream",
     "text": [
      "Precision =  0.8918918918918919\n",
      "Recall =  0.7333333333333333\n",
      "Accuracy =  0.8285714285714286\n"
     ]
    }
   ],
   "source": [
    "y_pred = clf.predict(x_test)\n",
    "con_mat = metrics_calc(y_test, y_pred)"
   ]
  },
  {
   "cell_type": "code",
   "execution_count": 10,
   "metadata": {},
   "outputs": [
    {
     "data": {
      "image/png": "[encoded data removed]",
      "text/plain": [
       "<Figure size 432x288 with 2 Axes>"
      ]
     },
     "metadata": {},
     "output_type": "display_data"
    }
   ],
   "source": [
    "plot(con_mat)"
   ]
  },
  {
   "cell_type": "markdown",
   "metadata": {},
   "source": [
    "### Logistic Regression"
   ]
  },
  {
   "cell_type": "code",
   "execution_count": 11,
   "metadata": {},
   "outputs": [
    {
     "data": {
      "text/plain": [
       "(array([2.79901339e-07]),\n",
       " array([[-1.51741996e-07,  9.63471291e-07, -4.61505929e-04,\n",
       "         -3.09294270e-05,  1.28972920e-05]]),\n",
       " 0.7035714285714286)"
      ]
     },
     "execution_count": 11,
     "metadata": {},
     "output_type": "execute_result"
    }
   ],
   "source": [
    "from sklearn.linear_model import LogisticRegression\n",
    "clf = LogisticRegression(random_state=0, solver='lbfgs', multi_class='multinomial', penalty = 'l2')\n",
    "clf.fit(x_train, y_train)\n",
    "clf.intercept_, clf.coef_, clf.score(x_test, y_test)"
   ]
  },
  {
   "cell_type": "code",
   "execution_count": 12,
   "metadata": {},
   "outputs": [
    {
     "name": "stdout",
     "output_type": "stream",
     "text": [
      "Precision =  0.6555555555555556\n",
      "Recall =  0.708\n",
      "Accuracy =  0.7035714285714286\n"
     ]
    }
   ],
   "source": [
    "y_pred = clf.predict(x_test)\n",
    "con_mat = metrics_calc(y_pred, y_test)"
   ]
  },
  {
   "cell_type": "code",
   "execution_count": 13,
   "metadata": {},
   "outputs": [
    {
     "data": {
      "image/png": "[encoded data removed]",
      "text/plain": [
       "<Figure size 432x288 with 2 Axes>"
      ]
     },
     "metadata": {},
     "output_type": "display_data"
    }
   ],
   "source": [
    "\n",
    "plot(con_mat)"
   ]
  },
  {
   "cell_type": "markdown",
   "metadata": {},
   "source": [
    "## Tweet Based Classification"
   ]
  },
  {
   "cell_type": "markdown",
   "metadata": {},
   "source": [
    "Classification technique based on the features(or words) that can be obtained from the text written in a tweet."
   ]
  },
  {
   "cell_type": "code",
   "execution_count": 14,
   "metadata": {},
   "outputs": [],
   "source": [
    "docs = df_train.description.dropna().tolist()\n",
    "vals = df_train.bot.tolist()"
   ]
  },
  {
   "cell_type": "markdown",
   "metadata": {},
   "source": [
    "### Cleaning the text in tweets"
   ]
  },
  {
   "cell_type": "code",
   "execution_count": 15,
   "metadata": {},
   "outputs": [],
   "source": [
    "import re, string\n",
    "import nltk\n",
    "from nltk.corpus import stopwords \n",
    "from nltk.tokenize import word_tokenize\n",
    "\n",
    "stop_words = set(stopwords.words('english')) \n",
    "for i in range(len(docs)):\n",
    "    docs[i] = docs[i].lower()\n",
    "    docs[i] = docs[i].translate(docs[i].maketrans('', '', '\"'))\n",
    "    docs[i] = re.sub(r'^https?:\\/\\/.*[\\r\\n]*', '', docs[i], flags=re.MULTILINE)\n",
    "    docs[i] = docs[i].translate(docs[i].maketrans('', '', string.punctuation))\n",
    "    docs[i] = ' '.join([re.sub(\"\\d+\", \" \", j) for j in word_tokenize(docs[i]) if j not in stop_words and 'https' not in j])\n",
    "\n",
    "isvalid = lambda x: 48 <= ord(x) <= 57 or 97 <= ord(x) <= 122 or ord(x) == 32\n",
    "for i in range(len(docs)):\n",
    "    k = list(docs[i])\n",
    "    for j in range(len(k)):\n",
    "        k[j] = k[j] if isvalid(k[j]) else ''\n",
    "    docs[i] = ''.join(k)"
   ]
  },
  {
   "cell_type": "markdown",
   "metadata": {},
   "source": [
    "### Naive Bayes Classifier"
   ]
  },
  {
   "cell_type": "code",
   "execution_count": 16,
   "metadata": {},
   "outputs": [],
   "source": [
    "all_words = set()\n",
    "for i in docs:\n",
    "    all_words = all_words.union(set(i.split()))"
   ]
  },
  {
   "cell_type": "code",
   "execution_count": 17,
   "metadata": {},
   "outputs": [
    {
     "data": {
      "text/plain": [
       "2394"
      ]
     },
     "execution_count": 17,
     "metadata": {},
     "output_type": "execute_result"
    }
   ],
   "source": [
    "train = list()\n",
    "d = dict(zip(list(all_words), [False for _ in range(len(all_words))]))\n",
    "for i in range(len(docs)):\n",
    "    f = d.copy()\n",
    "    for j in word_tokenize(docs[i]):\n",
    "        f[j] = True\n",
    "    train.append((f, vals[i]))\n",
    "len(train)"
   ]
  },
  {
   "cell_type": "code",
   "execution_count": 18,
   "metadata": {},
   "outputs": [],
   "source": [
    "from random import shuffle\n",
    "shuffle(train)\n",
    "train, test = train[:1915], train[1915:]"
   ]
  },
  {
   "cell_type": "code",
   "execution_count": 19,
   "metadata": {},
   "outputs": [],
   "source": [
    "cls = nltk.NaiveBayesClassifier.train(train)"
   ]
  },
  {
   "cell_type": "code",
   "execution_count": 20,
   "metadata": {},
   "outputs": [
    {
     "data": {
      "text/plain": [
       "0.778705636743215"
      ]
     },
     "execution_count": 20,
     "metadata": {},
     "output_type": "execute_result"
    }
   ],
   "source": [
    "nltk.classify.accuracy(cls, test)"
   ]
  }
 ],
 "metadata": {
  "kernelspec": {
   "display_name": "Python 3",
   "language": "python",
   "name": "python3"
  },
  "language_info": {
   "codemirror_mode": {
    "name": "ipython",
    "version": 3
   },
   "file_extension": ".py",
   "mimetype": "text/x-python",
   "name": "python",
   "nbconvert_exporter": "python",
   "pygments_lexer": "ipython3",
   "version": "3.6.5"
  }
 },
 "nbformat": 4,
 "nbformat_minor": 2
}
